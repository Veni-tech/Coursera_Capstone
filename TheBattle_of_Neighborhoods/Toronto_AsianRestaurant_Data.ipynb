{
 "cells": [
  {
   "cell_type": "markdown",
   "metadata": {},
   "source": [
    "# Data - Tornoto Neighborhoods and best rated Asian Restaurants"
   ]
  },
  {
   "cell_type": "markdown",
   "metadata": {},
   "source": [
    "### Datasource:\n",
    "* Wikipedia lists the postal codes of Toronto in the follwing link\n",
    "  https://en.wikipedia.org/wiki/List_of_postal_codes_of_Canada:_M\n",
    "* The datasources will be scraped to obtain the postal codes\n",
    "\n",
    "### Assumption 1:\n",
    "* My project makes an assumption that the most people visits downtowns for the business purposes. And hence after scraping the data in the link above, the filtered data would have only downtowns\n",
    "\n",
    "### Geographical coordinates:\n",
    "* To get the geographical coordinates of the neighborhoods using the Geocoder package, the following link is used to pull a csv file that has the geographical coordinates of each postal code: http://cocl.us/Geospatial_data\n",
    "\n",
    "### Explore the neighborhoods in Toronto using Foursquare API\n",
    "* Once we have the filetered data and the geographical coordinates, The neighbourhoods of Toronto will be explored using Foursquare places API\n",
    "https://developer.foursquare.com/places\n",
    "* The places will be shortlisted for Asian restaurants and would be checked for ratings using Four square API \n",
    "\n",
    "## Cluster and visualize the data\n",
    "* Using k-Means, the relevant neighborhoods are clustered and the folium map will be used to visualize the data\n",
    "* The suggestions will be given for the better restaurants based on the ratings received through Foursquare Places API"
   ]
  },
  {
   "cell_type": "code",
   "execution_count": null,
   "metadata": {},
   "outputs": [],
   "source": []
  }
 ],
 "metadata": {
  "kernelspec": {
   "display_name": "Python",
   "language": "python",
   "name": "conda-env-python-py"
  },
  "language_info": {
   "codemirror_mode": {
    "name": "ipython",
    "version": 3
   },
   "file_extension": ".py",
   "mimetype": "text/x-python",
   "name": "python",
   "nbconvert_exporter": "python",
   "pygments_lexer": "ipython3",
   "version": "3.6.10"
  }
 },
 "nbformat": 4,
 "nbformat_minor": 4
}
