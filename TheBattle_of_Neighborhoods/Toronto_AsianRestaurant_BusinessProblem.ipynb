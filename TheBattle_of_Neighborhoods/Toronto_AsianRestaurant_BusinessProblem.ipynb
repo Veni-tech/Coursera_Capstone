{
 "cells": [
  {
   "cell_type": "markdown",
   "metadata": {},
   "source": [
    "# Good Asian Restaurants in Toronto"
   ]
  },
  {
   "cell_type": "markdown",
   "metadata": {},
   "source": [
    "## Introduction"
   ]
  },
  {
   "cell_type": "markdown",
   "metadata": {},
   "source": [
    "* Many Indian people go to Canada on business trips who usually search for Good Asian restaurants where they get good Asian food. \n",
    "* Now-a-days Indian people prefer also the other asian countries food than Indian food. Some of the Chinese, Japanese, Thai food items became regular in-takes whenever they visit hotels both within India or other coutries\n",
    "* And people check the ratings of the hotels before they choose to visit\n",
    "* The project is to help the people who go on buiness trips to Canada - Toronto to find better staying place which has good Asian restaurans"
   ]
  },
  {
   "cell_type": "markdown",
   "metadata": {},
   "source": [
    "## Target Audience"
   ]
  },
  {
   "cell_type": "markdown",
   "metadata": {},
   "source": [
    "* The Indian business people or anyone who is visiting Canada - Toronto for a short term stay\n",
    "* The audience is not restricted to Indian people but all the visitors of Toronto who are interested in Asian food items\n",
    "* The visitors who usually refer the ratings of the restaurants before they choose to visit them"
   ]
  },
  {
   "cell_type": "code",
   "execution_count": null,
   "metadata": {},
   "outputs": [],
   "source": []
  }
 ],
 "metadata": {
  "kernelspec": {
   "display_name": "Python",
   "language": "python",
   "name": "conda-env-python-py"
  },
  "language_info": {
   "codemirror_mode": {
    "name": "ipython",
    "version": 3
   },
   "file_extension": ".py",
   "mimetype": "text/x-python",
   "name": "python",
   "nbconvert_exporter": "python",
   "pygments_lexer": "ipython3",
   "version": "3.6.10"
  }
 },
 "nbformat": 4,
 "nbformat_minor": 4
}
