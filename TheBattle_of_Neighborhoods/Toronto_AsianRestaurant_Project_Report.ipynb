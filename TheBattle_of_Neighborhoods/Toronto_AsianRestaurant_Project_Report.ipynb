{
 "cells": [
  {
   "cell_type": "markdown",
   "metadata": {},
   "source": [
    "# Asian Restaurants in Toronto"
   ]
  },
  {
   "cell_type": "markdown",
   "metadata": {},
   "source": [
    "## Data"
   ]
  },
  {
   "cell_type": "markdown",
   "metadata": {},
   "source": [
    "* I will scrape the Toronto details from Wikipedia https://en.wikipedia.org/wiki/List_of_postal_codes_of_Canada:_M\n",
    "* I will clean up the data and shortlist only the boroughs of \"Down Towns\" in Toronto as it will be better crowded place suitable restaurants"
   ]
  },
  {
   "cell_type": "markdown",
   "metadata": {},
   "source": [
    "## Solution"
   ]
  },
  {
   "cell_type": "markdown",
   "metadata": {},
   "source": [
    "* I will explore the number of Asian Restaurants in selected boroughs and identify only the areas that do not have much Asian Restaurants\n",
    "* If it has tourist places around it would be better coice as it will pull enough tourist crowd"
   ]
  },
  {
   "cell_type": "markdown",
   "metadata": {},
   "source": [
    "## Methodology"
   ]
  },
  {
   "cell_type": "markdown",
   "metadata": {},
   "source": [
    "* I will use scraping to pull the boroughs of Toronto\n",
    "* I will have to do the preporocessing to clean up the data and only filter the downtowns\n",
    "* I will use the Four square API to pull the data around the downtowns\n",
    "* I will filter only the Asian restaurants\n",
    "* I will create clusters of restaurants to understand how many are available in shortlisted areas\n",
    "* I will explore the neary by Tourist places\n",
    "* I will then explore and shortlist the most suitable area"
   ]
  }
 ],
 "metadata": {
  "kernelspec": {
   "display_name": "Python",
   "language": "python",
   "name": "conda-env-python-py"
  },
  "language_info": {
   "codemirror_mode": {
    "name": "ipython",
    "version": 3
   },
   "file_extension": ".py",
   "mimetype": "text/x-python",
   "name": "python",
   "nbconvert_exporter": "python",
   "pygments_lexer": "ipython3",
   "version": "3.6.10"
  }
 },
 "nbformat": 4,
 "nbformat_minor": 4
}
